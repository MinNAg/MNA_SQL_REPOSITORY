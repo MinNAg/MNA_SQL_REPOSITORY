{
 "cells": [
  {
   "cell_type": "markdown",
   "id": "fca54b58-9714-49fa-89c9-391fc4b1444d",
   "metadata": {},
   "source": [
    "<h1> Continuous 7 days login user"
   ]
  },
  {
   "cell_type": "markdown",
   "id": "dee111e6-7141-4e04-9cae-63de8e7fff01",
   "metadata": {},
   "source": [
    "<h2>Method to solve problem\n",
    "<h3>1.Remove duplicate day for each user\n",
    "<h3>2.Give each  day a order number (1,2,3,4)\n",
    "<h3>3.For continuous log in,each  day - order number =result ; rn / if continuous login the result rn will be same.\n",
    "<h3>4.Group by user id , rn and filter >= 7"
   ]
  },
  {
   "cell_type": "code",
   "execution_count": 2,
   "id": "4317869b-95da-4ba1-817c-d74d0b466219",
   "metadata": {},
   "outputs": [],
   "source": [
    "%load_ext sql\n"
   ]
  },
  {
   "cell_type": "code",
   "execution_count": 4,
   "id": "7d556345-c4b1-43ed-83dc-431692fef0ae",
   "metadata": {},
   "outputs": [
    {
     "data": {
      "text/html": [
       "<span style=\"None\">Connecting to &#x27;sqlite://&#x27;</span>"
      ],
      "text/plain": [
       "Connecting to 'sqlite://'"
      ]
     },
     "metadata": {},
     "output_type": "display_data"
    },
    {
     "data": {
      "text/html": [
       "<span style=\"color: green\">22 rows affected.</span>"
      ],
      "text/plain": [
       "22 rows affected."
      ]
     },
     "metadata": {},
     "output_type": "display_data"
    },
    {
     "data": {
      "text/html": [
       "<span style=\"color: green\">7 rows affected.</span>"
      ],
      "text/plain": [
       "7 rows affected."
      ]
     },
     "metadata": {},
     "output_type": "display_data"
    },
    {
     "data": {
      "text/html": [
       "<span style=\"color: green\">4 rows affected.</span>"
      ],
      "text/plain": [
       "4 rows affected."
      ]
     },
     "metadata": {},
     "output_type": "display_data"
    },
    {
     "data": {
      "text/html": [
       "<table>\n",
       "    <thead>\n",
       "        <tr>\n",
       "        </tr>\n",
       "    </thead>\n",
       "    <tbody>\n",
       "    </tbody>\n",
       "</table>"
      ],
      "text/plain": [
       "++\n",
       "||\n",
       "++\n",
       "++"
      ]
     },
     "execution_count": 4,
     "metadata": {},
     "output_type": "execute_result"
    }
   ],
   "source": [
    "%%sql sqlite://\n",
    "CREATE TABLE user_loginto(\n",
    "    user_id int,\n",
    "    login_time date);\n",
    "\n",
    "INSERT INTO user_loginto(user_id,login_time)values\n",
    "(1,'2025-01-01'),(1,'2025-01-01'),(1,'2025-01-02'),(1,'2025-01-03'),(1,'2025-01-05'),\n",
    "(2,'2025-01-01'),(2,'2025-01-01'),(2,'2025-01-01'),\n",
    "(3,'2025-01-01'),(3,'2025-01-02'),(3,'2025-01-03'),(3,'2025-01-04'),(3,'2025-01-05'),(3,'2025-01-06'),(3,'2025-01-07'),\n",
    "(4,'2025-01-01'),(4,'2025-01-02'),(4,'2025-01-04'),(4,'2025-01-04'),(4,'2025-01-05'),(4,'2025-01-06'),(4,'2025-01-07');\n",
    "\n",
    "INSERT INTO user_loginto(user_id,login_time)values\n",
    "(4,'2025-01-01'),(4,'2025-01-02'),(4,'2025-01-04'),(4,'2025-01-04'),(4,'2025-01-05'),(4,'2025-01-06'),(4,'2025-01-07');\n",
    "INSERT INTO user_loginto(user_id,login_time)values\n",
    "(5,'2025-01-01'),(5,'2025-01-05'),(5,'2025-01-06'),(5,'2025-01-07');"
   ]
  },
  {
   "cell_type": "code",
   "execution_count": 6,
   "id": "740642e5-9f2b-44a0-bc2c-b1a60a0cc31a",
   "metadata": {},
   "outputs": [
    {
     "data": {
      "text/html": [
       "<span style=\"None\">Running query in &#x27;sqlite://&#x27;</span>"
      ],
      "text/plain": [
       "Running query in 'sqlite://'"
      ]
     },
     "metadata": {},
     "output_type": "display_data"
    },
    {
     "data": {
      "text/html": [
       "<table>\n",
       "    <thead>\n",
       "        <tr>\n",
       "            <th>user_id</th>\n",
       "            <th>login_time</th>\n",
       "        </tr>\n",
       "    </thead>\n",
       "    <tbody>\n",
       "        <tr>\n",
       "            <td>1</td>\n",
       "            <td>2025-01-01</td>\n",
       "        </tr>\n",
       "        <tr>\n",
       "            <td>1</td>\n",
       "            <td>2025-01-01</td>\n",
       "        </tr>\n",
       "        <tr>\n",
       "            <td>1</td>\n",
       "            <td>2025-01-02</td>\n",
       "        </tr>\n",
       "        <tr>\n",
       "            <td>1</td>\n",
       "            <td>2025-01-03</td>\n",
       "        </tr>\n",
       "        <tr>\n",
       "            <td>1</td>\n",
       "            <td>2025-01-05</td>\n",
       "        </tr>\n",
       "        <tr>\n",
       "            <td>2</td>\n",
       "            <td>2025-01-01</td>\n",
       "        </tr>\n",
       "        <tr>\n",
       "            <td>2</td>\n",
       "            <td>2025-01-01</td>\n",
       "        </tr>\n",
       "        <tr>\n",
       "            <td>2</td>\n",
       "            <td>2025-01-01</td>\n",
       "        </tr>\n",
       "        <tr>\n",
       "            <td>3</td>\n",
       "            <td>2025-01-01</td>\n",
       "        </tr>\n",
       "        <tr>\n",
       "            <td>3</td>\n",
       "            <td>2025-01-02</td>\n",
       "        </tr>\n",
       "    </tbody>\n",
       "</table>\n",
       "<span style=\"font-style:italic;text-align:center;\">Truncated to <a href=\"https://jupysql.ploomber.io/en/latest/api/configuration.html#displaylimit\">displaylimit</a> of 10.</span>"
      ],
      "text/plain": [
       "+---------+------------+\n",
       "| user_id | login_time |\n",
       "+---------+------------+\n",
       "|    1    | 2025-01-01 |\n",
       "|    1    | 2025-01-01 |\n",
       "|    1    | 2025-01-02 |\n",
       "|    1    | 2025-01-03 |\n",
       "|    1    | 2025-01-05 |\n",
       "|    2    | 2025-01-01 |\n",
       "|    2    | 2025-01-01 |\n",
       "|    2    | 2025-01-01 |\n",
       "|    3    | 2025-01-01 |\n",
       "|    3    | 2025-01-02 |\n",
       "+---------+------------+\n",
       "Truncated to displaylimit of 10."
      ]
     },
     "execution_count": 6,
     "metadata": {},
     "output_type": "execute_result"
    }
   ],
   "source": [
    "%sql select * from user_loginto;"
   ]
  },
  {
   "cell_type": "code",
   "execution_count": 76,
   "id": "96df24e7-0e2f-40ef-bdda-52a9c0ae31cf",
   "metadata": {},
   "outputs": [
    {
     "data": {
      "text/html": [
       "<span style=\"None\">Running query in &#x27;sqlite://&#x27;</span>"
      ],
      "text/plain": [
       "Running query in 'sqlite://'"
      ]
     },
     "metadata": {},
     "output_type": "display_data"
    },
    {
     "data": {
      "text/html": [
       "<table>\n",
       "    <thead>\n",
       "        <tr>\n",
       "            <th>user_id</th>\n",
       "            <th>consecutive_cunt</th>\n",
       "        </tr>\n",
       "    </thead>\n",
       "    <tbody>\n",
       "        <tr>\n",
       "            <td>1</td>\n",
       "            <td>3</td>\n",
       "        </tr>\n",
       "        <tr>\n",
       "            <td>1</td>\n",
       "            <td>1</td>\n",
       "        </tr>\n",
       "        <tr>\n",
       "            <td>2</td>\n",
       "            <td>1</td>\n",
       "        </tr>\n",
       "        <tr>\n",
       "            <td>3</td>\n",
       "            <td>7</td>\n",
       "        </tr>\n",
       "        <tr>\n",
       "            <td>4</td>\n",
       "            <td>2</td>\n",
       "        </tr>\n",
       "        <tr>\n",
       "            <td>4</td>\n",
       "            <td>4</td>\n",
       "        </tr>\n",
       "        <tr>\n",
       "            <td>5</td>\n",
       "            <td>1</td>\n",
       "        </tr>\n",
       "        <tr>\n",
       "            <td>5</td>\n",
       "            <td>3</td>\n",
       "        </tr>\n",
       "    </tbody>\n",
       "</table>"
      ],
      "text/plain": [
       "+---------+------------------+\n",
       "| user_id | consecutive_cunt |\n",
       "+---------+------------------+\n",
       "|    1    |        3         |\n",
       "|    1    |        1         |\n",
       "|    2    |        1         |\n",
       "|    3    |        7         |\n",
       "|    4    |        2         |\n",
       "|    4    |        4         |\n",
       "|    5    |        1         |\n",
       "|    5    |        3         |\n",
       "+---------+------------------+"
      ]
     },
     "execution_count": 76,
     "metadata": {},
     "output_type": "execute_result"
    }
   ],
   "source": [
    "%%sql\n",
    "--step 1 Remove duplicate day for each user\n",
    "WITH dedup AS (\n",
    "    SELECT DISTINCT user_id, login_time\n",
    "    FROM user_loginto\n",
    "),\n",
    "--step 2 Give each  day a order number (1,2,3,4)\n",
    "ranked AS (\n",
    "    SELECT \n",
    "        user_id,\n",
    "        login_time,\n",
    "        ROW_NUMBER() OVER (PARTITION BY user_id ORDER BY login_time) AS rn\n",
    "    FROM dedup\n",
    "),\n",
    "--step 3 For continuous log in,each  day - order number =result ; rn / if continuous login the result rn will be same.\n",
    "groupbed AS (\n",
    "    SELECT \n",
    "        user_id,\n",
    "        login_time,\n",
    "        rn,\n",
    "        DATE(login_time, '-' || rn || ' days') AS grp_date\n",
    "    FROM ranked\n",
    "),\n",
    "--step 4 Group by user id , rn and filter >= 7\n",
    "group_count AS(\n",
    "    SELECT \n",
    "        user_id,\n",
    "        count(*) as consecutive_cunt\n",
    "    FROM groupbed\n",
    "    group by user_id,grp_date\n",
    "    )\n",
    "\n",
    "SELECT * FROM group_count;\n"
   ]
  },
  {
   "cell_type": "markdown",
   "id": "d55cdf60-a1ea-4851-a383-589ec947ba15",
   "metadata": {},
   "source": [
    "<h1>Each user first logint and last login time."
   ]
  },
  {
   "cell_type": "code",
   "execution_count": 16,
   "id": "252fef2d-7522-459c-9bf5-f929af533559",
   "metadata": {},
   "outputs": [
    {
     "data": {
      "text/html": [
       "<span style=\"None\">Running query in &#x27;sqlite://&#x27;</span>"
      ],
      "text/plain": [
       "Running query in 'sqlite://'"
      ]
     },
     "metadata": {},
     "output_type": "display_data"
    },
    {
     "data": {
      "text/html": [
       "<table>\n",
       "    <thead>\n",
       "        <tr>\n",
       "            <th>user_id</th>\n",
       "            <th>first_login_time</th>\n",
       "            <th>last_login_time</th>\n",
       "        </tr>\n",
       "    </thead>\n",
       "    <tbody>\n",
       "        <tr>\n",
       "            <td>1</td>\n",
       "            <td>2025-01-01</td>\n",
       "            <td>2025-01-05</td>\n",
       "        </tr>\n",
       "        <tr>\n",
       "            <td>2</td>\n",
       "            <td>2025-01-01</td>\n",
       "            <td>2025-01-01</td>\n",
       "        </tr>\n",
       "        <tr>\n",
       "            <td>3</td>\n",
       "            <td>2025-01-01</td>\n",
       "            <td>2025-01-07</td>\n",
       "        </tr>\n",
       "        <tr>\n",
       "            <td>4</td>\n",
       "            <td>2025-01-01</td>\n",
       "            <td>2025-01-07</td>\n",
       "        </tr>\n",
       "        <tr>\n",
       "            <td>5</td>\n",
       "            <td>2025-01-01</td>\n",
       "            <td>2025-01-07</td>\n",
       "        </tr>\n",
       "    </tbody>\n",
       "</table>"
      ],
      "text/plain": [
       "+---------+------------------+-----------------+\n",
       "| user_id | first_login_time | last_login_time |\n",
       "+---------+------------------+-----------------+\n",
       "|    1    |    2025-01-01    |    2025-01-05   |\n",
       "|    2    |    2025-01-01    |    2025-01-01   |\n",
       "|    3    |    2025-01-01    |    2025-01-07   |\n",
       "|    4    |    2025-01-01    |    2025-01-07   |\n",
       "|    5    |    2025-01-01    |    2025-01-07   |\n",
       "+---------+------------------+-----------------+"
      ]
     },
     "execution_count": 16,
     "metadata": {},
     "output_type": "execute_result"
    }
   ],
   "source": [
    "%%sql\n",
    "select user_id,min(login_time) as first_login_time,max(login_time) as last_login_time\n",
    "from user_loginto group by user_id;"
   ]
  },
  {
   "cell_type": "code",
   "execution_count": null,
   "id": "ee4a7ba7-9ce3-4099-ad5f-581682fac46e",
   "metadata": {},
   "outputs": [],
   "source": []
  }
 ],
 "metadata": {
  "kernelspec": {
   "display_name": "Python [conda env:base] *",
   "language": "python",
   "name": "conda-base-py"
  },
  "language_info": {
   "codemirror_mode": {
    "name": "ipython",
    "version": 3
   },
   "file_extension": ".py",
   "mimetype": "text/x-python",
   "name": "python",
   "nbconvert_exporter": "python",
   "pygments_lexer": "ipython3",
   "version": "3.12.7"
  }
 },
 "nbformat": 4,
 "nbformat_minor": 5
}
