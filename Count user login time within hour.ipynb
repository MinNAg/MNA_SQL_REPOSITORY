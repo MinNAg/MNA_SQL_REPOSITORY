{
 "cells": [
  {
   "cell_type": "markdown",
   "id": "1365788c-8e5c-42f7-8f33-7f3f9aa9c7a4",
   "metadata": {},
   "source": [
    "<h1>How many time user login within each hour/specific hour"
   ]
  },
  {
   "cell_type": "markdown",
   "id": "d015f2b3-058d-45d8-9e88-995869daa74c",
   "metadata": {},
   "source": [
    "<h3> 1.Change user login time into near complete hour using strftime i.e if 12:12:12 to 12:00:00\n",
    "<h3> 2.Group by user_id and strftime \n",
    "<h3> 3.Count"
   ]
  },
  {
   "cell_type": "code",
   "execution_count": 24,
   "id": "de9e658f-6e5f-42d3-954c-85149e85e4c6",
   "metadata": {},
   "outputs": [
    {
     "name": "stdout",
     "output_type": "stream",
     "text": [
      "The sql extension is already loaded. To reload it, use:\n",
      "  %reload_ext sql\n"
     ]
    }
   ],
   "source": [
    "%load_ext sql"
   ]
  },
  {
   "cell_type": "code",
   "execution_count": 26,
   "id": "9b6d441e-5677-4b18-b453-2217d46028f9",
   "metadata": {},
   "outputs": [
    {
     "name": "stderr",
     "output_type": "stream",
     "text": [
      "RuntimeError: (sqlite3.OperationalError) table user_loginto already exists\n",
      "[SQL: CREATE TABLE user_loginto(\n",
      "    user_id int,\n",
      "    login_time date);]\n",
      "(Background on this error at: https://sqlalche.me/e/20/e3q8)\n"
     ]
    }
   ],
   "source": [
    "%%sql sqlite://\n",
    "CREATE TABLE user_loginto(\n",
    "    user_id int,\n",
    "    login_time date);\n",
    "\n",
    "INSERT INTO user_loginto(user_id,login_time)values\n",
    "(1,'2025-01-01 10:10:10'),(1,'2025-01-01 12:12:12'),(1,'2025-01-02 03:40:12'),(1,'2025-01-03 21:12:13'),(1,'2025-01-05 20:00:00'),\n",
    "(2,'2025-01-01 15:15:15'),(2,'2025-01-01 07:17:17'),(2,'2025-01-01 00:00:00'),\n",
    "(3,'2025-01-01 05:15:13'),(3,'2025-01-02 13:15:15'),(3,'2025-01-03 15:12:15');\n"
   ]
  },
  {
   "cell_type": "code",
   "execution_count": 28,
   "id": "f40a15cd-2957-4806-9325-92d1e170e36a",
   "metadata": {},
   "outputs": [
    {
     "data": {
      "text/html": [
       "<span style=\"None\">Running query in &#x27;sqlite://&#x27;</span>"
      ],
      "text/plain": [
       "Running query in 'sqlite://'"
      ]
     },
     "metadata": {},
     "output_type": "display_data"
    },
    {
     "data": {
      "text/html": [
       "<table>\n",
       "    <thead>\n",
       "        <tr>\n",
       "            <th>user_id</th>\n",
       "            <th>login_time</th>\n",
       "        </tr>\n",
       "    </thead>\n",
       "    <tbody>\n",
       "        <tr>\n",
       "            <td>1</td>\n",
       "            <td>2025-01-01 10:10:10</td>\n",
       "        </tr>\n",
       "        <tr>\n",
       "            <td>1</td>\n",
       "            <td>2025-01-01 12:12:12</td>\n",
       "        </tr>\n",
       "        <tr>\n",
       "            <td>1</td>\n",
       "            <td>2025-01-02 03:40:12</td>\n",
       "        </tr>\n",
       "        <tr>\n",
       "            <td>1</td>\n",
       "            <td>2025-01-03 21:12:13</td>\n",
       "        </tr>\n",
       "        <tr>\n",
       "            <td>1</td>\n",
       "            <td>2025-01-05 20:00:00</td>\n",
       "        </tr>\n",
       "        <tr>\n",
       "            <td>2</td>\n",
       "            <td>2025-01-01 15:15:15</td>\n",
       "        </tr>\n",
       "        <tr>\n",
       "            <td>2</td>\n",
       "            <td>2025-01-01 07:17:17</td>\n",
       "        </tr>\n",
       "        <tr>\n",
       "            <td>2</td>\n",
       "            <td>2025-01-01 00:00:00</td>\n",
       "        </tr>\n",
       "        <tr>\n",
       "            <td>3</td>\n",
       "            <td>2025-01-01 05:15:13</td>\n",
       "        </tr>\n",
       "        <tr>\n",
       "            <td>3</td>\n",
       "            <td>2025-01-02 13:15:15</td>\n",
       "        </tr>\n",
       "    </tbody>\n",
       "</table>\n",
       "<span style=\"font-style:italic;text-align:center;\">Truncated to <a href=\"https://jupysql.ploomber.io/en/latest/api/configuration.html#displaylimit\">displaylimit</a> of 10.</span>"
      ],
      "text/plain": [
       "+---------+---------------------+\n",
       "| user_id |      login_time     |\n",
       "+---------+---------------------+\n",
       "|    1    | 2025-01-01 10:10:10 |\n",
       "|    1    | 2025-01-01 12:12:12 |\n",
       "|    1    | 2025-01-02 03:40:12 |\n",
       "|    1    | 2025-01-03 21:12:13 |\n",
       "|    1    | 2025-01-05 20:00:00 |\n",
       "|    2    | 2025-01-01 15:15:15 |\n",
       "|    2    | 2025-01-01 07:17:17 |\n",
       "|    2    | 2025-01-01 00:00:00 |\n",
       "|    3    | 2025-01-01 05:15:13 |\n",
       "|    3    | 2025-01-02 13:15:15 |\n",
       "+---------+---------------------+\n",
       "Truncated to displaylimit of 10."
      ]
     },
     "execution_count": 28,
     "metadata": {},
     "output_type": "execute_result"
    }
   ],
   "source": [
    "%%sql\n",
    "select * from user_loginto;"
   ]
  },
  {
   "cell_type": "code",
   "execution_count": 32,
   "id": "6e39c1f4-5181-48d0-b0d4-fae622ebd153",
   "metadata": {},
   "outputs": [
    {
     "data": {
      "text/html": [
       "<span style=\"None\">Running query in &#x27;sqlite://&#x27;</span>"
      ],
      "text/plain": [
       "Running query in 'sqlite://'"
      ]
     },
     "metadata": {},
     "output_type": "display_data"
    },
    {
     "data": {
      "text/html": [
       "<table>\n",
       "    <thead>\n",
       "        <tr>\n",
       "            <th>user_id</th>\n",
       "            <th>hour_group</th>\n",
       "            <th>login_count</th>\n",
       "        </tr>\n",
       "    </thead>\n",
       "    <tbody>\n",
       "        <tr>\n",
       "            <td>1</td>\n",
       "            <td>2025-01-01 10:00:00</td>\n",
       "            <td>1</td>\n",
       "        </tr>\n",
       "        <tr>\n",
       "            <td>1</td>\n",
       "            <td>2025-01-01 12:00:00</td>\n",
       "            <td>1</td>\n",
       "        </tr>\n",
       "        <tr>\n",
       "            <td>1</td>\n",
       "            <td>2025-01-02 03:00:00</td>\n",
       "            <td>1</td>\n",
       "        </tr>\n",
       "        <tr>\n",
       "            <td>1</td>\n",
       "            <td>2025-01-03 21:00:00</td>\n",
       "            <td>1</td>\n",
       "        </tr>\n",
       "        <tr>\n",
       "            <td>1</td>\n",
       "            <td>2025-01-05 20:00:00</td>\n",
       "            <td>1</td>\n",
       "        </tr>\n",
       "        <tr>\n",
       "            <td>2</td>\n",
       "            <td>2025-01-01 00:00:00</td>\n",
       "            <td>1</td>\n",
       "        </tr>\n",
       "        <tr>\n",
       "            <td>2</td>\n",
       "            <td>2025-01-01 07:00:00</td>\n",
       "            <td>1</td>\n",
       "        </tr>\n",
       "        <tr>\n",
       "            <td>2</td>\n",
       "            <td>2025-01-01 15:00:00</td>\n",
       "            <td>1</td>\n",
       "        </tr>\n",
       "        <tr>\n",
       "            <td>3</td>\n",
       "            <td>2025-01-01 05:00:00</td>\n",
       "            <td>1</td>\n",
       "        </tr>\n",
       "        <tr>\n",
       "            <td>3</td>\n",
       "            <td>2025-01-02 13:00:00</td>\n",
       "            <td>1</td>\n",
       "        </tr>\n",
       "    </tbody>\n",
       "</table>\n",
       "<span style=\"font-style:italic;text-align:center;\">Truncated to <a href=\"https://jupysql.ploomber.io/en/latest/api/configuration.html#displaylimit\">displaylimit</a> of 10.</span>"
      ],
      "text/plain": [
       "+---------+---------------------+-------------+\n",
       "| user_id |      hour_group     | login_count |\n",
       "+---------+---------------------+-------------+\n",
       "|    1    | 2025-01-01 10:00:00 |      1      |\n",
       "|    1    | 2025-01-01 12:00:00 |      1      |\n",
       "|    1    | 2025-01-02 03:00:00 |      1      |\n",
       "|    1    | 2025-01-03 21:00:00 |      1      |\n",
       "|    1    | 2025-01-05 20:00:00 |      1      |\n",
       "|    2    | 2025-01-01 00:00:00 |      1      |\n",
       "|    2    | 2025-01-01 07:00:00 |      1      |\n",
       "|    2    | 2025-01-01 15:00:00 |      1      |\n",
       "|    3    | 2025-01-01 05:00:00 |      1      |\n",
       "|    3    | 2025-01-02 13:00:00 |      1      |\n",
       "+---------+---------------------+-------------+\n",
       "Truncated to displaylimit of 10."
      ]
     },
     "execution_count": 32,
     "metadata": {},
     "output_type": "execute_result"
    }
   ],
   "source": [
    "%%sql\n",
    "--Result code\n",
    "SELECT \n",
    "  user_id,\n",
    "  STRFTIME('%Y-%m-%d %H:00:00', login_time) AS hour_group,\n",
    "  COUNT(*) AS login_count\n",
    "FROM user_loginto\n",
    "GROUP BY user_id, hour_group\n",
    "ORDER BY user_id, hour_group;\n",
    "\n"
   ]
  },
  {
   "cell_type": "code",
   "execution_count": null,
   "id": "0a699331-3d1d-47ae-a9ac-8bb5aab5565b",
   "metadata": {},
   "outputs": [],
   "source": []
  }
 ],
 "metadata": {
  "kernelspec": {
   "display_name": "Python [conda env:base] *",
   "language": "python",
   "name": "conda-base-py"
  },
  "language_info": {
   "codemirror_mode": {
    "name": "ipython",
    "version": 3
   },
   "file_extension": ".py",
   "mimetype": "text/x-python",
   "name": "python",
   "nbconvert_exporter": "python",
   "pygments_lexer": "ipython3",
   "version": "3.12.7"
  }
 },
 "nbformat": 4,
 "nbformat_minor": 5
}
