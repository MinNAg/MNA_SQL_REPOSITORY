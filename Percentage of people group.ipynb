{
 "cells": [
  {
   "cell_type": "code",
   "execution_count": 2,
   "id": "d3084b3f-384c-46db-bdaf-93ba870c727d",
   "metadata": {},
   "outputs": [],
   "source": [
    "%load_ext sql"
   ]
  },
  {
   "cell_type": "code",
   "execution_count": 3,
   "id": "b9cdc2b7-b8a9-4184-9016-e7f2e73301b3",
   "metadata": {},
   "outputs": [
    {
     "data": {
      "text/html": [
       "<span style=\"None\">Connecting to &#x27;sqlite://&#x27;</span>"
      ],
      "text/plain": [
       "Connecting to 'sqlite://'"
      ]
     },
     "metadata": {},
     "output_type": "display_data"
    }
   ],
   "source": [
    "%sql sqlite://"
   ]
  },
  {
   "cell_type": "code",
   "execution_count": 4,
   "id": "279fe51f-e8eb-4d30-91de-841a37906707",
   "metadata": {},
   "outputs": [
    {
     "data": {
      "text/html": [
       "<span style=\"None\">Running query in &#x27;sqlite://&#x27;</span>"
      ],
      "text/plain": [
       "Running query in 'sqlite://'"
      ]
     },
     "metadata": {},
     "output_type": "display_data"
    },
    {
     "data": {
      "text/html": [
       "<table>\n",
       "    <thead>\n",
       "        <tr>\n",
       "        </tr>\n",
       "    </thead>\n",
       "    <tbody>\n",
       "    </tbody>\n",
       "</table>"
      ],
      "text/plain": [
       "++\n",
       "||\n",
       "++\n",
       "++"
      ]
     },
     "execution_count": 4,
     "metadata": {},
     "output_type": "execute_result"
    }
   ],
   "source": [
    "%%sql\n",
    "create table replayment (\n",
    "    c_id int,\n",
    "    due_date date,\n",
    "    pay_date date);\n",
    "\n",
    "\n",
    "\n"
   ]
  },
  {
   "cell_type": "code",
   "execution_count": 5,
   "id": "ee1f6a7b-438f-4537-a3c2-c24f2a8cc388",
   "metadata": {
    "scrolled": true
   },
   "outputs": [
    {
     "data": {
      "text/html": [
       "<span style=\"None\">Running query in &#x27;sqlite://&#x27;</span>"
      ],
      "text/plain": [
       "Running query in 'sqlite://'"
      ]
     },
     "metadata": {},
     "output_type": "display_data"
    },
    {
     "data": {
      "text/html": [
       "<span style=\"color: green\">12 rows affected.</span>"
      ],
      "text/plain": [
       "12 rows affected."
      ]
     },
     "metadata": {},
     "output_type": "display_data"
    },
    {
     "data": {
      "text/html": [
       "<table>\n",
       "    <thead>\n",
       "        <tr>\n",
       "        </tr>\n",
       "    </thead>\n",
       "    <tbody>\n",
       "    </tbody>\n",
       "</table>"
      ],
      "text/plain": [
       "++\n",
       "||\n",
       "++\n",
       "++"
      ]
     },
     "execution_count": 5,
     "metadata": {},
     "output_type": "execute_result"
    }
   ],
   "source": [
    "%%sql\n",
    "\n",
    "insert into replayment(c_id,due_date,pay_date) values \n",
    "(1,'2025-01-01','2025-01-01'),(2,'2025-01-01','2025-01-06'),\n",
    "(3,'2025-01-01','2025-01-01'),(4,'2025-01-01','2025-01-05'),\n",
    "(5,'2025-01-01','2025-01-12'),(6,'2025-01-01','2025-01-03'),\n",
    "(7,'2025-01-01','2025-02-01'),(8,'2025-01-01','2025-01-012'),\n",
    "(9,'2025-01-01','2025-01-11'),(10,'2025-01-01','2025-02-01'),\n",
    "(11,'2025-01-01','2025-01-18'),(12,'2025-01-01','2025-02-01');"
   ]
  },
  {
   "cell_type": "markdown",
   "id": "6b577ee8-c4ee-4364-b06a-39dea087056e",
   "metadata": {},
   "source": [
    "## Step 1 find date interval and group into range"
   ]
  },
  {
   "cell_type": "code",
   "execution_count": 6,
   "id": "c27b48d1-ffd5-492f-b3fa-3b8d535e5ff4",
   "metadata": {},
   "outputs": [
    {
     "data": {
      "text/html": [
       "<span style=\"None\">Running query in &#x27;sqlite://&#x27;</span>"
      ],
      "text/plain": [
       "Running query in 'sqlite://'"
      ]
     },
     "metadata": {},
     "output_type": "display_data"
    },
    {
     "data": {
      "text/html": [
       "<table>\n",
       "    <thead>\n",
       "        <tr>\n",
       "            <th>c_id</th>\n",
       "            <th>due_date</th>\n",
       "            <th>pay_date</th>\n",
       "            <th>Range</th>\n",
       "        </tr>\n",
       "    </thead>\n",
       "    <tbody>\n",
       "        <tr>\n",
       "            <td>1</td>\n",
       "            <td>2025-01-01</td>\n",
       "            <td>2025-01-01</td>\n",
       "            <td>Normal</td>\n",
       "        </tr>\n",
       "        <tr>\n",
       "            <td>2</td>\n",
       "            <td>2025-01-01</td>\n",
       "            <td>2025-01-06</td>\n",
       "            <td>M_overdue</td>\n",
       "        </tr>\n",
       "        <tr>\n",
       "            <td>3</td>\n",
       "            <td>2025-01-01</td>\n",
       "            <td>2025-01-01</td>\n",
       "            <td>Normal</td>\n",
       "        </tr>\n",
       "        <tr>\n",
       "            <td>4</td>\n",
       "            <td>2025-01-01</td>\n",
       "            <td>2025-01-05</td>\n",
       "            <td>M_overdue</td>\n",
       "        </tr>\n",
       "        <tr>\n",
       "            <td>5</td>\n",
       "            <td>2025-01-01</td>\n",
       "            <td>2025-01-12</td>\n",
       "            <td>L_overdue</td>\n",
       "        </tr>\n",
       "        <tr>\n",
       "            <td>6</td>\n",
       "            <td>2025-01-01</td>\n",
       "            <td>2025-01-03</td>\n",
       "            <td>S_overdue</td>\n",
       "        </tr>\n",
       "        <tr>\n",
       "            <td>7</td>\n",
       "            <td>2025-01-01</td>\n",
       "            <td>2025-02-01</td>\n",
       "            <td>LL_overdue</td>\n",
       "        </tr>\n",
       "        <tr>\n",
       "            <td>8</td>\n",
       "            <td>2025-01-01</td>\n",
       "            <td>2025-01-012</td>\n",
       "            <td>LL_overdue</td>\n",
       "        </tr>\n",
       "        <tr>\n",
       "            <td>9</td>\n",
       "            <td>2025-01-01</td>\n",
       "            <td>2025-01-11</td>\n",
       "            <td>L_overdue</td>\n",
       "        </tr>\n",
       "        <tr>\n",
       "            <td>10</td>\n",
       "            <td>2025-01-01</td>\n",
       "            <td>2025-02-01</td>\n",
       "            <td>LL_overdue</td>\n",
       "        </tr>\n",
       "    </tbody>\n",
       "</table>\n",
       "<span style=\"font-style:italic;text-align:center;\">Truncated to <a href=\"https://jupysql.ploomber.io/en/latest/api/configuration.html#displaylimit\">displaylimit</a> of 10.</span>"
      ],
      "text/plain": [
       "+------+------------+-------------+------------+\n",
       "| c_id |  due_date  |   pay_date  |   Range    |\n",
       "+------+------------+-------------+------------+\n",
       "|  1   | 2025-01-01 |  2025-01-01 |   Normal   |\n",
       "|  2   | 2025-01-01 |  2025-01-06 | M_overdue  |\n",
       "|  3   | 2025-01-01 |  2025-01-01 |   Normal   |\n",
       "|  4   | 2025-01-01 |  2025-01-05 | M_overdue  |\n",
       "|  5   | 2025-01-01 |  2025-01-12 | L_overdue  |\n",
       "|  6   | 2025-01-01 |  2025-01-03 | S_overdue  |\n",
       "|  7   | 2025-01-01 |  2025-02-01 | LL_overdue |\n",
       "|  8   | 2025-01-01 | 2025-01-012 | LL_overdue |\n",
       "|  9   | 2025-01-01 |  2025-01-11 | L_overdue  |\n",
       "|  10  | 2025-01-01 |  2025-02-01 | LL_overdue |\n",
       "+------+------------+-------------+------------+\n",
       "Truncated to displaylimit of 10."
      ]
     },
     "execution_count": 6,
     "metadata": {},
     "output_type": "execute_result"
    }
   ],
   "source": [
    "%%sql\n",
    "\n",
    "with group1 as (\n",
    "    select c_id,due_date,pay_date,\n",
    "    case\n",
    "        when julianday(pay_date)-julianday(due_date) = 0 then 'Normal'\n",
    "        when julianday(pay_date)-julianday(due_date) >=1 and julianday(pay_date)-julianday(due_date) <3 then 'S_overdue'\n",
    "        when  julianday(pay_date)-julianday(due_date) >=3 and julianday(pay_date)-julianday(due_date) <10 then 'M_overdue'\n",
    "        when  julianday(pay_date)-julianday(due_date) >=10 and julianday(pay_date)-julianday(due_date) <30 then 'L_overdue'\n",
    "        else  'LL_overdue'\n",
    "        END AS Range \n",
    "    from replayment)\n",
    "\n",
    "select * from group1;\n",
    "        "
   ]
  },
  {
   "cell_type": "markdown",
   "id": "640c8369-e5ea-43a3-93bf-42a5424c4ca5",
   "metadata": {},
   "source": [
    "## Step 2 Count number of each group"
   ]
  },
  {
   "cell_type": "code",
   "execution_count": 7,
   "id": "32d03bd3-19fd-46de-9cf6-d4d5e395a9b1",
   "metadata": {},
   "outputs": [
    {
     "data": {
      "text/html": [
       "<span style=\"None\">Running query in &#x27;sqlite://&#x27;</span>"
      ],
      "text/plain": [
       "Running query in 'sqlite://'"
      ]
     },
     "metadata": {},
     "output_type": "display_data"
    },
    {
     "data": {
      "text/html": [
       "<table>\n",
       "    <thead>\n",
       "        <tr>\n",
       "            <th>count1</th>\n",
       "            <th>Range</th>\n",
       "        </tr>\n",
       "    </thead>\n",
       "    <tbody>\n",
       "        <tr>\n",
       "            <td>1</td>\n",
       "            <td>S_overdue</td>\n",
       "        </tr>\n",
       "        <tr>\n",
       "            <td>2</td>\n",
       "            <td>M_overdue</td>\n",
       "        </tr>\n",
       "        <tr>\n",
       "            <td>2</td>\n",
       "            <td>Normal</td>\n",
       "        </tr>\n",
       "        <tr>\n",
       "            <td>3</td>\n",
       "            <td>L_overdue</td>\n",
       "        </tr>\n",
       "        <tr>\n",
       "            <td>4</td>\n",
       "            <td>LL_overdue</td>\n",
       "        </tr>\n",
       "    </tbody>\n",
       "</table>"
      ],
      "text/plain": [
       "+--------+------------+\n",
       "| count1 |   Range    |\n",
       "+--------+------------+\n",
       "|   1    | S_overdue  |\n",
       "|   2    | M_overdue  |\n",
       "|   2    |   Normal   |\n",
       "|   3    | L_overdue  |\n",
       "|   4    | LL_overdue |\n",
       "+--------+------------+"
      ]
     },
     "execution_count": 7,
     "metadata": {},
     "output_type": "execute_result"
    }
   ],
   "source": [
    "%%sql\n",
    "--Step 1\n",
    "with group1 as (\n",
    "    select c_id,due_date,pay_date,\n",
    "    case\n",
    "        when julianday(pay_date)-julianday(due_date) = 0 then 'Normal'\n",
    "        when julianday(pay_date)-julianday(due_date) >=1 and julianday(pay_date)-julianday(due_date) <3 then 'S_overdue'\n",
    "        when  julianday(pay_date)-julianday(due_date) >=3 and julianday(pay_date)-julianday(due_date) <10 then 'M_overdue'\n",
    "        when  julianday(pay_date)-julianday(due_date) >=10 and julianday(pay_date)-julianday(due_date) <30 then 'L_overdue'\n",
    "        else  'LL_overdue'\n",
    "        END AS Range \n",
    "    from replayment),\n",
    "--Step 2\n",
    "group2 as (\n",
    "    select count(*) as count1,Range from group1 group by Range order by count1)\n",
    "\n",
    "select * from group2;"
   ]
  },
  {
   "cell_type": "markdown",
   "id": "bc98f2e5-0dfc-4599-8a52-b6b569205560",
   "metadata": {},
   "source": [
    "## Step3 Each group number divide by total number "
   ]
  },
  {
   "cell_type": "code",
   "execution_count": 11,
   "id": "a868d14d-c456-4fe0-9a12-b43f06841a17",
   "metadata": {},
   "outputs": [
    {
     "data": {
      "text/html": [
       "<span style=\"None\">Running query in &#x27;sqlite://&#x27;</span>"
      ],
      "text/plain": [
       "Running query in 'sqlite://'"
      ]
     },
     "metadata": {},
     "output_type": "display_data"
    },
    {
     "data": {
      "text/html": [
       "<table>\n",
       "    <thead>\n",
       "        <tr>\n",
       "            <th>range</th>\n",
       "            <th>count1</th>\n",
       "            <th>percentage</th>\n",
       "        </tr>\n",
       "    </thead>\n",
       "    <tbody>\n",
       "        <tr>\n",
       "            <td>S_overdue</td>\n",
       "            <td>1</td>\n",
       "            <td>0.0833</td>\n",
       "        </tr>\n",
       "        <tr>\n",
       "            <td>M_overdue</td>\n",
       "            <td>2</td>\n",
       "            <td>0.1667</td>\n",
       "        </tr>\n",
       "        <tr>\n",
       "            <td>Normal</td>\n",
       "            <td>2</td>\n",
       "            <td>0.1667</td>\n",
       "        </tr>\n",
       "        <tr>\n",
       "            <td>L_overdue</td>\n",
       "            <td>3</td>\n",
       "            <td>0.25</td>\n",
       "        </tr>\n",
       "        <tr>\n",
       "            <td>LL_overdue</td>\n",
       "            <td>4</td>\n",
       "            <td>0.3333</td>\n",
       "        </tr>\n",
       "    </tbody>\n",
       "</table>"
      ],
      "text/plain": [
       "+------------+--------+------------+\n",
       "|   range    | count1 | percentage |\n",
       "+------------+--------+------------+\n",
       "| S_overdue  |   1    |   0.0833   |\n",
       "| M_overdue  |   2    |   0.1667   |\n",
       "|   Normal   |   2    |   0.1667   |\n",
       "| L_overdue  |   3    |    0.25    |\n",
       "| LL_overdue |   4    |   0.3333   |\n",
       "+------------+--------+------------+"
      ]
     },
     "execution_count": 11,
     "metadata": {},
     "output_type": "execute_result"
    }
   ],
   "source": [
    "%%sql\n",
    "with group1 as (\n",
    "    select c_id,due_date,pay_date,\n",
    "    case\n",
    "        when julianday(pay_date)-julianday(due_date) = 0 then 'Normal'\n",
    "        when julianday(pay_date)-julianday(due_date) >=1 and julianday(pay_date)-julianday(due_date) <3 then 'S_overdue'\n",
    "        when  julianday(pay_date)-julianday(due_date) >=3 and julianday(pay_date)-julianday(due_date) <10 then 'M_overdue'\n",
    "        when  julianday(pay_date)-julianday(due_date) >=10 and julianday(pay_date)-julianday(due_date) <30 then 'L_overdue'\n",
    "        else  'LL_overdue'\n",
    "        END AS Range \n",
    "    from replayment),\n",
    "--Step 2\n",
    "group2 as (\n",
    "    select count(*) as count1,Range from group1 group by Range order by count1),\n",
    "group3 as (\n",
    "    select count(distinct c_id ) as unique_count from replayment ),\n",
    "group4 as (\n",
    "    select t1.range ,t1.count1, round(1.0*t1.count1 / t2.unique_count,4) as percentage \n",
    "    from group2 as t1  cross join group3 as t2)\n",
    "\n",
    "select * from group4 order by percentage ;"
   ]
  },
  {
   "cell_type": "code",
   "execution_count": null,
   "id": "9a000fce-28e1-47e9-b32f-3b786d8d4e4e",
   "metadata": {},
   "outputs": [],
   "source": []
  }
 ],
 "metadata": {
  "kernelspec": {
   "display_name": "Python [conda env:base] *",
   "language": "python",
   "name": "conda-base-py"
  },
  "language_info": {
   "codemirror_mode": {
    "name": "ipython",
    "version": 3
   },
   "file_extension": ".py",
   "mimetype": "text/x-python",
   "name": "python",
   "nbconvert_exporter": "python",
   "pygments_lexer": "ipython3",
   "version": "3.12.7"
  }
 },
 "nbformat": 4,
 "nbformat_minor": 5
}
