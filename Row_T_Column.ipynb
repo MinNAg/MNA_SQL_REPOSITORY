{
 "cells": [
  {
   "cell_type": "markdown",
   "id": "fe98b48c-ef21-41dc-9990-95de6040a090",
   "metadata": {},
   "source": [
    "### SQL row convert into column"
   ]
  },
  {
   "cell_type": "code",
   "execution_count": 2,
   "id": "d6eb29a5-eff7-4e5f-970c-a991bd40c21f",
   "metadata": {},
   "outputs": [],
   "source": [
    "%load_ext sql"
   ]
  },
  {
   "cell_type": "code",
   "execution_count": 3,
   "id": "92988a2c-497f-4f3e-be15-87d4640e171a",
   "metadata": {},
   "outputs": [
    {
     "data": {
      "text/html": [
       "<span style=\"None\">Connecting to &#x27;sqlite://&#x27;</span>"
      ],
      "text/plain": [
       "Connecting to 'sqlite://'"
      ]
     },
     "metadata": {},
     "output_type": "display_data"
    }
   ],
   "source": [
    "%sql sqlite://"
   ]
  },
  {
   "cell_type": "code",
   "execution_count": 4,
   "id": "c2bed609-f626-405c-84fd-d3e7787fc300",
   "metadata": {},
   "outputs": [
    {
     "data": {
      "text/html": [
       "<span style=\"None\">Running query in &#x27;sqlite://&#x27;</span>"
      ],
      "text/plain": [
       "Running query in 'sqlite://'"
      ]
     },
     "metadata": {},
     "output_type": "display_data"
    },
    {
     "data": {
      "text/html": [
       "<table>\n",
       "    <thead>\n",
       "        <tr>\n",
       "        </tr>\n",
       "    </thead>\n",
       "    <tbody>\n",
       "    </tbody>\n",
       "</table>"
      ],
      "text/plain": [
       "++\n",
       "||\n",
       "++\n",
       "++"
      ]
     },
     "execution_count": 4,
     "metadata": {},
     "output_type": "execute_result"
    }
   ],
   "source": [
    "%%sql\n",
    "create table replayment (\n",
    "    c_id int,\n",
    "    service str,\n",
    "    s_date date);\n",
    "\n"
   ]
  },
  {
   "cell_type": "code",
   "execution_count": 5,
   "id": "e95e60f5-d823-43fb-b1b7-43edd2acf0ea",
   "metadata": {},
   "outputs": [
    {
     "data": {
      "text/html": [
       "<span style=\"None\">Running query in &#x27;sqlite://&#x27;</span>"
      ],
      "text/plain": [
       "Running query in 'sqlite://'"
      ]
     },
     "metadata": {},
     "output_type": "display_data"
    },
    {
     "data": {
      "text/html": [
       "<span style=\"color: green\">12 rows affected.</span>"
      ],
      "text/plain": [
       "12 rows affected."
      ]
     },
     "metadata": {},
     "output_type": "display_data"
    },
    {
     "data": {
      "text/html": [
       "<table>\n",
       "    <thead>\n",
       "        <tr>\n",
       "        </tr>\n",
       "    </thead>\n",
       "    <tbody>\n",
       "    </tbody>\n",
       "</table>"
      ],
      "text/plain": [
       "++\n",
       "||\n",
       "++\n",
       "++"
      ]
     },
     "execution_count": 5,
     "metadata": {},
     "output_type": "execute_result"
    }
   ],
   "source": [
    "%%sql\n",
    "insert into replayment(c_id,service,s_date) values \n",
    "(1,'A','2025-01-01'),(1,'B','2025-01-01'),(1,'C','2025-01-01'),(1,'A','2025-01-02'),\n",
    "(2,'A','2025-01-01'),(2,'B','2025-01-01'),(2,'C','2025-01-01'),(3,'A','2025-01-01'),\n",
    "(4,'A','2025-01-01'),(5,'A','2025-01-01'),(5,'C','2025-01-03'),(6,'A','2025-01-01');"
   ]
  },
  {
   "cell_type": "code",
   "execution_count": 16,
   "id": "6564e4a8-a426-453b-a5e0-a850731469f0",
   "metadata": {},
   "outputs": [
    {
     "data": {
      "text/html": [
       "<span style=\"None\">Running query in &#x27;sqlite://&#x27;</span>"
      ],
      "text/plain": [
       "Running query in 'sqlite://'"
      ]
     },
     "metadata": {},
     "output_type": "display_data"
    },
    {
     "data": {
      "text/html": [
       "<table>\n",
       "    <thead>\n",
       "        <tr>\n",
       "            <th>c_id</th>\n",
       "            <th>service</th>\n",
       "            <th>s_date</th>\n",
       "            <th>count1</th>\n",
       "        </tr>\n",
       "    </thead>\n",
       "    <tbody>\n",
       "        <tr>\n",
       "            <td>1</td>\n",
       "            <td>A</td>\n",
       "            <td>2025-01-01</td>\n",
       "            <td>2</td>\n",
       "        </tr>\n",
       "        <tr>\n",
       "            <td>1</td>\n",
       "            <td>B</td>\n",
       "            <td>2025-01-01</td>\n",
       "            <td>1</td>\n",
       "        </tr>\n",
       "        <tr>\n",
       "            <td>1</td>\n",
       "            <td>C</td>\n",
       "            <td>2025-01-01</td>\n",
       "            <td>1</td>\n",
       "        </tr>\n",
       "        <tr>\n",
       "            <td>2</td>\n",
       "            <td>A</td>\n",
       "            <td>2025-01-01</td>\n",
       "            <td>1</td>\n",
       "        </tr>\n",
       "        <tr>\n",
       "            <td>2</td>\n",
       "            <td>B</td>\n",
       "            <td>2025-01-01</td>\n",
       "            <td>1</td>\n",
       "        </tr>\n",
       "        <tr>\n",
       "            <td>2</td>\n",
       "            <td>C</td>\n",
       "            <td>2025-01-01</td>\n",
       "            <td>1</td>\n",
       "        </tr>\n",
       "        <tr>\n",
       "            <td>3</td>\n",
       "            <td>A</td>\n",
       "            <td>2025-01-01</td>\n",
       "            <td>1</td>\n",
       "        </tr>\n",
       "        <tr>\n",
       "            <td>4</td>\n",
       "            <td>A</td>\n",
       "            <td>2025-01-01</td>\n",
       "            <td>1</td>\n",
       "        </tr>\n",
       "        <tr>\n",
       "            <td>5</td>\n",
       "            <td>A</td>\n",
       "            <td>2025-01-01</td>\n",
       "            <td>1</td>\n",
       "        </tr>\n",
       "        <tr>\n",
       "            <td>5</td>\n",
       "            <td>C</td>\n",
       "            <td>2025-01-03</td>\n",
       "            <td>1</td>\n",
       "        </tr>\n",
       "    </tbody>\n",
       "</table>\n",
       "<span style=\"font-style:italic;text-align:center;\">Truncated to <a href=\"https://jupysql.ploomber.io/en/latest/api/configuration.html#displaylimit\">displaylimit</a> of 10.</span>"
      ],
      "text/plain": [
       "+------+---------+------------+--------+\n",
       "| c_id | service |   s_date   | count1 |\n",
       "+------+---------+------------+--------+\n",
       "|  1   |    A    | 2025-01-01 |   2    |\n",
       "|  1   |    B    | 2025-01-01 |   1    |\n",
       "|  1   |    C    | 2025-01-01 |   1    |\n",
       "|  2   |    A    | 2025-01-01 |   1    |\n",
       "|  2   |    B    | 2025-01-01 |   1    |\n",
       "|  2   |    C    | 2025-01-01 |   1    |\n",
       "|  3   |    A    | 2025-01-01 |   1    |\n",
       "|  4   |    A    | 2025-01-01 |   1    |\n",
       "|  5   |    A    | 2025-01-01 |   1    |\n",
       "|  5   |    C    | 2025-01-03 |   1    |\n",
       "+------+---------+------------+--------+\n",
       "Truncated to displaylimit of 10."
      ]
     },
     "execution_count": 16,
     "metadata": {},
     "output_type": "execute_result"
    }
   ],
   "source": [
    "%%sql\n",
    "\n",
    "with table1 as(\n",
    "select c_id,service,s_date,count(*) as count1 from replayment group by c_id,service)\n",
    "\n",
    "select * from table1;"
   ]
  },
  {
   "cell_type": "markdown",
   "id": "3f38b46c-0cbf-4e82-8a03-e2009d4e0ac9",
   "metadata": {},
   "source": [
    "Convert row into column"
   ]
  },
  {
   "cell_type": "code",
   "execution_count": 22,
   "id": "f9b683e2-e5fd-4bc7-a454-aceef7da9a2a",
   "metadata": {},
   "outputs": [
    {
     "data": {
      "text/html": [
       "<span style=\"None\">Running query in &#x27;sqlite://&#x27;</span>"
      ],
      "text/plain": [
       "Running query in 'sqlite://'"
      ]
     },
     "metadata": {},
     "output_type": "display_data"
    },
    {
     "data": {
      "text/html": [
       "<table>\n",
       "    <thead>\n",
       "        <tr>\n",
       "            <th>c_id</th>\n",
       "            <th>s_date</th>\n",
       "            <th>Count_A</th>\n",
       "            <th>Count_B</th>\n",
       "            <th>Count_C</th>\n",
       "        </tr>\n",
       "    </thead>\n",
       "    <tbody>\n",
       "        <tr>\n",
       "            <td>1</td>\n",
       "            <td>2025-01-01</td>\n",
       "            <td>2</td>\n",
       "            <td>1</td>\n",
       "            <td>1</td>\n",
       "        </tr>\n",
       "        <tr>\n",
       "            <td>2</td>\n",
       "            <td>2025-01-01</td>\n",
       "            <td>1</td>\n",
       "            <td>1</td>\n",
       "            <td>1</td>\n",
       "        </tr>\n",
       "        <tr>\n",
       "            <td>3</td>\n",
       "            <td>2025-01-01</td>\n",
       "            <td>1</td>\n",
       "            <td>0</td>\n",
       "            <td>0</td>\n",
       "        </tr>\n",
       "        <tr>\n",
       "            <td>4</td>\n",
       "            <td>2025-01-01</td>\n",
       "            <td>1</td>\n",
       "            <td>0</td>\n",
       "            <td>0</td>\n",
       "        </tr>\n",
       "        <tr>\n",
       "            <td>5</td>\n",
       "            <td>2025-01-01</td>\n",
       "            <td>1</td>\n",
       "            <td>0</td>\n",
       "            <td>0</td>\n",
       "        </tr>\n",
       "        <tr>\n",
       "            <td>5</td>\n",
       "            <td>2025-01-03</td>\n",
       "            <td>0</td>\n",
       "            <td>0</td>\n",
       "            <td>1</td>\n",
       "        </tr>\n",
       "        <tr>\n",
       "            <td>6</td>\n",
       "            <td>2025-01-01</td>\n",
       "            <td>1</td>\n",
       "            <td>0</td>\n",
       "            <td>0</td>\n",
       "        </tr>\n",
       "    </tbody>\n",
       "</table>"
      ],
      "text/plain": [
       "+------+------------+---------+---------+---------+\n",
       "| c_id |   s_date   | Count_A | Count_B | Count_C |\n",
       "+------+------------+---------+---------+---------+\n",
       "|  1   | 2025-01-01 |    2    |    1    |    1    |\n",
       "|  2   | 2025-01-01 |    1    |    1    |    1    |\n",
       "|  3   | 2025-01-01 |    1    |    0    |    0    |\n",
       "|  4   | 2025-01-01 |    1    |    0    |    0    |\n",
       "|  5   | 2025-01-01 |    1    |    0    |    0    |\n",
       "|  5   | 2025-01-03 |    0    |    0    |    1    |\n",
       "|  6   | 2025-01-01 |    1    |    0    |    0    |\n",
       "+------+------------+---------+---------+---------+"
      ]
     },
     "execution_count": 22,
     "metadata": {},
     "output_type": "execute_result"
    }
   ],
   "source": [
    "\n",
    "%%sql\n",
    "\n",
    "with table1 as(\n",
    "select c_id,service,s_date,count(*) as count1 from replayment group by c_id,service)\n",
    "--Convert row into column\n",
    "select c_id,s_date,\n",
    "sum(case when service='A' then count1 else 0 end) as Count_A,\n",
    "sum(case when service='B' then count1 else 0 end) as Count_B,\n",
    "sum(case when service='C' then count1 else 0 end) as Count_C\n",
    "from table1 group by c_id,s_date ;\n"
   ]
  },
  {
   "cell_type": "code",
   "execution_count": 6,
   "id": "a9ef7967-f760-4375-9ac7-4498e611f5f7",
   "metadata": {},
   "outputs": [
    {
     "data": {
      "text/html": [
       "<span style=\"None\">Running query in &#x27;sqlite://&#x27;</span>"
      ],
      "text/plain": [
       "Running query in 'sqlite://'"
      ]
     },
     "metadata": {},
     "output_type": "display_data"
    },
    {
     "data": {
      "text/html": [
       "<table>\n",
       "    <thead>\n",
       "        <tr>\n",
       "            <th>c_id</th>\n",
       "            <th>s_date</th>\n",
       "            <th>Service</th>\n",
       "            <th>count_value</th>\n",
       "        </tr>\n",
       "    </thead>\n",
       "    <tbody>\n",
       "        <tr>\n",
       "            <td>1</td>\n",
       "            <td>2025-01-01</td>\n",
       "            <td>A</td>\n",
       "            <td>2</td>\n",
       "        </tr>\n",
       "        <tr>\n",
       "            <td>2</td>\n",
       "            <td>2025-01-01</td>\n",
       "            <td>A</td>\n",
       "            <td>1</td>\n",
       "        </tr>\n",
       "        <tr>\n",
       "            <td>3</td>\n",
       "            <td>2025-01-01</td>\n",
       "            <td>A</td>\n",
       "            <td>1</td>\n",
       "        </tr>\n",
       "        <tr>\n",
       "            <td>4</td>\n",
       "            <td>2025-01-01</td>\n",
       "            <td>A</td>\n",
       "            <td>1</td>\n",
       "        </tr>\n",
       "        <tr>\n",
       "            <td>5</td>\n",
       "            <td>2025-01-01</td>\n",
       "            <td>A</td>\n",
       "            <td>1</td>\n",
       "        </tr>\n",
       "        <tr>\n",
       "            <td>6</td>\n",
       "            <td>2025-01-01</td>\n",
       "            <td>A</td>\n",
       "            <td>1</td>\n",
       "        </tr>\n",
       "        <tr>\n",
       "            <td>1</td>\n",
       "            <td>2025-01-01</td>\n",
       "            <td>B</td>\n",
       "            <td>2</td>\n",
       "        </tr>\n",
       "        <tr>\n",
       "            <td>2</td>\n",
       "            <td>2025-01-01</td>\n",
       "            <td>B</td>\n",
       "            <td>1</td>\n",
       "        </tr>\n",
       "        <tr>\n",
       "            <td>1</td>\n",
       "            <td>2025-01-01</td>\n",
       "            <td>C</td>\n",
       "            <td>2</td>\n",
       "        </tr>\n",
       "        <tr>\n",
       "            <td>2</td>\n",
       "            <td>2025-01-01</td>\n",
       "            <td>C</td>\n",
       "            <td>1</td>\n",
       "        </tr>\n",
       "    </tbody>\n",
       "</table>\n",
       "<span style=\"font-style:italic;text-align:center;\">Truncated to <a href=\"https://jupysql.ploomber.io/en/latest/api/configuration.html#displaylimit\">displaylimit</a> of 10.</span>"
      ],
      "text/plain": [
       "+------+------------+---------+-------------+\n",
       "| c_id |   s_date   | Service | count_value |\n",
       "+------+------------+---------+-------------+\n",
       "|  1   | 2025-01-01 |    A    |      2      |\n",
       "|  2   | 2025-01-01 |    A    |      1      |\n",
       "|  3   | 2025-01-01 |    A    |      1      |\n",
       "|  4   | 2025-01-01 |    A    |      1      |\n",
       "|  5   | 2025-01-01 |    A    |      1      |\n",
       "|  6   | 2025-01-01 |    A    |      1      |\n",
       "|  1   | 2025-01-01 |    B    |      2      |\n",
       "|  2   | 2025-01-01 |    B    |      1      |\n",
       "|  1   | 2025-01-01 |    C    |      2      |\n",
       "|  2   | 2025-01-01 |    C    |      1      |\n",
       "+------+------------+---------+-------------+\n",
       "Truncated to displaylimit of 10."
      ]
     },
     "execution_count": 6,
     "metadata": {},
     "output_type": "execute_result"
    }
   ],
   "source": [
    "%%sql\n",
    "with table1 as(\n",
    "select c_id,service,s_date,count(*) as count1 from replayment group by c_id,service),\n",
    "--Convert row into column\n",
    "table2 as (\n",
    "select c_id,s_date,count1,\n",
    "sum(case when service='A' then count1 else 0 end) as Count_A,\n",
    "sum(case when service='B' then count1 else 0 end) as Count_B,\n",
    "sum(case when service='C' then count1 else 0 end) as Count_C\n",
    "from table1 group by c_id,s_date )\n",
    "    \n",
    "select c_id,s_date,'A' as Service ,count1 as count_value from table2 where Count_A >0\n",
    "union all\n",
    "select c_id,s_date,'B' as Service ,count1 as count_value from table2 where Count_B >0\n",
    "union all\n",
    "select c_id,s_date,'C' as Service ,count1 as count_value from table2 where Count_C >0;"
   ]
  },
  {
   "cell_type": "code",
   "execution_count": null,
   "id": "9b16f068-025f-4001-908f-144cd3898d02",
   "metadata": {},
   "outputs": [],
   "source": []
  }
 ],
 "metadata": {
  "kernelspec": {
   "display_name": "Python [conda env:base] *",
   "language": "python",
   "name": "conda-base-py"
  },
  "language_info": {
   "codemirror_mode": {
    "name": "ipython",
    "version": 3
   },
   "file_extension": ".py",
   "mimetype": "text/x-python",
   "name": "python",
   "nbconvert_exporter": "python",
   "pygments_lexer": "ipython3",
   "version": "3.12.7"
  }
 },
 "nbformat": 4,
 "nbformat_minor": 5
}
