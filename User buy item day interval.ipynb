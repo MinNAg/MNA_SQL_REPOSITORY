{
 "cells": [
  {
   "cell_type": "markdown",
   "id": "eb5837d1-7e02-413d-8d34-76fac9ff83d4",
   "metadata": {},
   "source": [
    "<h1>Cour user buy two intem day interval"
   ]
  },
  {
   "cell_type": "markdown",
   "id": "26a71c3a-b2e0-479d-bbc7-83631049cecc",
   "metadata": {},
   "source": [
    "<h3>1.User buy item1 on day1 and but item 2 on day 6 ,calcualte day1 and day6 interval\n",
    "<h3>2.Using julianday function to calculate two day interval\n",
    "<h3>3.Before calculation need to order date and know previous day value.so that can two days value in "
   ]
  },
  {
   "cell_type": "code",
   "execution_count": 3,
   "id": "8dbe1e14-d96a-48eb-aff7-722a682ce751",
   "metadata": {},
   "outputs": [],
   "source": [
    "%load_ext sql\n"
   ]
  },
  {
   "cell_type": "code",
   "execution_count": 5,
   "id": "fb129985-230c-43b1-82b8-05c852478f50",
   "metadata": {},
   "outputs": [
    {
     "data": {
      "text/html": [
       "<span style=\"None\">Connecting to &#x27;sqlite://&#x27;</span>"
      ],
      "text/plain": [
       "Connecting to 'sqlite://'"
      ]
     },
     "metadata": {},
     "output_type": "display_data"
    },
    {
     "data": {
      "text/html": [
       "<span style=\"color: green\">9 rows affected.</span>"
      ],
      "text/plain": [
       "9 rows affected."
      ]
     },
     "metadata": {},
     "output_type": "display_data"
    },
    {
     "data": {
      "text/html": [
       "<table>\n",
       "    <thead>\n",
       "        <tr>\n",
       "        </tr>\n",
       "    </thead>\n",
       "    <tbody>\n",
       "    </tbody>\n",
       "</table>"
      ],
      "text/plain": [
       "++\n",
       "||\n",
       "++\n",
       "++"
      ]
     },
     "execution_count": 5,
     "metadata": {},
     "output_type": "execute_result"
    }
   ],
   "source": [
    "%%sql sqlite://\n",
    "CREATE TABLE buy_item(\n",
    "    order_id int,\n",
    "    user_id int,\n",
    "    login_time date);\n",
    "\n",
    "INSERT INTO buy_item(order_id,user_id,login_time)values\n",
    "(1,1,'2025-01-01 10:10:10'),(2,1,'2025-02-01 12:12:12'),(3,1,'2025-03-02 03:40:12'),\n",
    "(1,2,'2025-01-01 15:15:15'),(5,2,'2025-01-01 07:17:17'),(7,2,'2025-02-01 00:00:00'),\n",
    "(4,3,'2025-01-01 05:15:13'),(6,3,'2025-01-02 13:15:15'),(1,3,'2025-01-07 15:12:15');\n"
   ]
  },
  {
   "cell_type": "code",
   "execution_count": 43,
   "id": "ff6ff3e2-1947-4f1b-94cf-6f4b9d387d13",
   "metadata": {},
   "outputs": [
    {
     "data": {
      "text/html": [
       "<span style=\"None\">Running query in &#x27;sqlite://&#x27;</span>"
      ],
      "text/plain": [
       "Running query in 'sqlite://'"
      ]
     },
     "metadata": {},
     "output_type": "display_data"
    },
    {
     "data": {
      "text/html": [
       "<table>\n",
       "    <thead>\n",
       "        <tr>\n",
       "            <th>order_id</th>\n",
       "            <th>user_id</th>\n",
       "            <th>previous_time</th>\n",
       "            <th>login_time</th>\n",
       "            <th>diff_day</th>\n",
       "        </tr>\n",
       "    </thead>\n",
       "    <tbody>\n",
       "        <tr>\n",
       "            <td>2</td>\n",
       "            <td>1</td>\n",
       "            <td>2025-01-01 10:10:10</td>\n",
       "            <td>2025-02-01 12:12:12</td>\n",
       "            <td>31.08474537031725</td>\n",
       "        </tr>\n",
       "        <tr>\n",
       "            <td>3</td>\n",
       "            <td>1</td>\n",
       "            <td>2025-02-01 12:12:12</td>\n",
       "            <td>2025-03-02 03:40:12</td>\n",
       "            <td>28.644444444216788</td>\n",
       "        </tr>\n",
       "        <tr>\n",
       "            <td>1</td>\n",
       "            <td>2</td>\n",
       "            <td>2025-01-01 07:17:17</td>\n",
       "            <td>2025-01-01 15:15:15</td>\n",
       "            <td>0.33192129619419575</td>\n",
       "        </tr>\n",
       "        <tr>\n",
       "            <td>7</td>\n",
       "            <td>2</td>\n",
       "            <td>2025-01-01 15:15:15</td>\n",
       "            <td>2025-02-01 00:00:00</td>\n",
       "            <td>30.36440972238779</td>\n",
       "        </tr>\n",
       "        <tr>\n",
       "            <td>6</td>\n",
       "            <td>3</td>\n",
       "            <td>2025-01-01 05:15:13</td>\n",
       "            <td>2025-01-02 13:15:15</td>\n",
       "            <td>1.3333564815111458</td>\n",
       "        </tr>\n",
       "        <tr>\n",
       "            <td>1</td>\n",
       "            <td>3</td>\n",
       "            <td>2025-01-02 13:15:15</td>\n",
       "            <td>2025-01-07 15:12:15</td>\n",
       "            <td>5.0812499998137355</td>\n",
       "        </tr>\n",
       "    </tbody>\n",
       "</table>"
      ],
      "text/plain": [
       "+----------+---------+---------------------+---------------------+---------------------+\n",
       "| order_id | user_id |    previous_time    |      login_time     |       diff_day      |\n",
       "+----------+---------+---------------------+---------------------+---------------------+\n",
       "|    2     |    1    | 2025-01-01 10:10:10 | 2025-02-01 12:12:12 |  31.08474537031725  |\n",
       "|    3     |    1    | 2025-02-01 12:12:12 | 2025-03-02 03:40:12 |  28.644444444216788 |\n",
       "|    1     |    2    | 2025-01-01 07:17:17 | 2025-01-01 15:15:15 | 0.33192129619419575 |\n",
       "|    7     |    2    | 2025-01-01 15:15:15 | 2025-02-01 00:00:00 |  30.36440972238779  |\n",
       "|    6     |    3    | 2025-01-01 05:15:13 | 2025-01-02 13:15:15 |  1.3333564815111458 |\n",
       "|    1     |    3    | 2025-01-02 13:15:15 | 2025-01-07 15:12:15 |  5.0812499998137355 |\n",
       "+----------+---------+---------------------+---------------------+---------------------+"
      ]
     },
     "execution_count": 43,
     "metadata": {},
     "output_type": "execute_result"
    }
   ],
   "source": [
    "%%sql\n",
    "with previous as (\n",
    "select order_id,user_id,login_time,lag(login_time) over (partition by user_id order by login_time) as previous_time from buy_item\n",
    "),\n",
    "diff as (\n",
    "select order_id,user_id,login_time,previous_time,julianday(login_time) as J_login_time,julianday(previous_time) as J_previous_time,\n",
    "    julianday(login_time)-julianday(previous_time) as diff_day\n",
    "    from previous\n",
    "\n",
    "    )\n",
    "--\n",
    "select order_id,user_id,previous_time,login_time,diff_day from diff where diff_day not null;"
   ]
  },
  {
   "cell_type": "code",
   "execution_count": 47,
   "id": "ebaca779-94ea-4b58-8fec-76d1105c9bf3",
   "metadata": {},
   "outputs": [
    {
     "data": {
      "text/html": [
       "<span style=\"None\">Running query in &#x27;sqlite://&#x27;</span>"
      ],
      "text/plain": [
       "Running query in 'sqlite://'"
      ]
     },
     "metadata": {},
     "output_type": "display_data"
    },
    {
     "data": {
      "text/html": [
       "<table>\n",
       "    <thead>\n",
       "        <tr>\n",
       "            <th>user_id</th>\n",
       "            <th>login_time</th>\n",
       "            <th>previous_time</th>\n",
       "            <th>diff_days</th>\n",
       "            <th>diff_hours</th>\n",
       "            <th>diff_minutes</th>\n",
       "        </tr>\n",
       "    </thead>\n",
       "    <tbody>\n",
       "        <tr>\n",
       "            <td>1</td>\n",
       "            <td>2025-02-01 12:12:12</td>\n",
       "            <td>2025-01-01 10:10:10</td>\n",
       "            <td>31.08474537031725</td>\n",
       "            <td>746.03</td>\n",
       "            <td>44762.03</td>\n",
       "        </tr>\n",
       "        <tr>\n",
       "            <td>1</td>\n",
       "            <td>2025-03-02 03:40:12</td>\n",
       "            <td>2025-02-01 12:12:12</td>\n",
       "            <td>28.644444444216788</td>\n",
       "            <td>687.47</td>\n",
       "            <td>41248.0</td>\n",
       "        </tr>\n",
       "        <tr>\n",
       "            <td>2</td>\n",
       "            <td>2025-01-01 15:15:15</td>\n",
       "            <td>2025-01-01 07:17:17</td>\n",
       "            <td>0.33192129619419575</td>\n",
       "            <td>7.97</td>\n",
       "            <td>477.97</td>\n",
       "        </tr>\n",
       "        <tr>\n",
       "            <td>2</td>\n",
       "            <td>2025-02-01 00:00:00</td>\n",
       "            <td>2025-01-01 15:15:15</td>\n",
       "            <td>30.36440972238779</td>\n",
       "            <td>728.75</td>\n",
       "            <td>43724.75</td>\n",
       "        </tr>\n",
       "        <tr>\n",
       "            <td>3</td>\n",
       "            <td>2025-01-02 13:15:15</td>\n",
       "            <td>2025-01-01 05:15:13</td>\n",
       "            <td>1.3333564815111458</td>\n",
       "            <td>32.0</td>\n",
       "            <td>1920.03</td>\n",
       "        </tr>\n",
       "        <tr>\n",
       "            <td>3</td>\n",
       "            <td>2025-01-07 15:12:15</td>\n",
       "            <td>2025-01-02 13:15:15</td>\n",
       "            <td>5.0812499998137355</td>\n",
       "            <td>121.95</td>\n",
       "            <td>7317.0</td>\n",
       "        </tr>\n",
       "    </tbody>\n",
       "</table>"
      ],
      "text/plain": [
       "+---------+---------------------+---------------------+---------------------+------------+--------------+\n",
       "| user_id |      login_time     |    previous_time    |      diff_days      | diff_hours | diff_minutes |\n",
       "+---------+---------------------+---------------------+---------------------+------------+--------------+\n",
       "|    1    | 2025-02-01 12:12:12 | 2025-01-01 10:10:10 |  31.08474537031725  |   746.03   |   44762.03   |\n",
       "|    1    | 2025-03-02 03:40:12 | 2025-02-01 12:12:12 |  28.644444444216788 |   687.47   |   41248.0    |\n",
       "|    2    | 2025-01-01 15:15:15 | 2025-01-01 07:17:17 | 0.33192129619419575 |    7.97    |    477.97    |\n",
       "|    2    | 2025-02-01 00:00:00 | 2025-01-01 15:15:15 |  30.36440972238779  |   728.75   |   43724.75   |\n",
       "|    3    | 2025-01-02 13:15:15 | 2025-01-01 05:15:13 |  1.3333564815111458 |    32.0    |   1920.03    |\n",
       "|    3    | 2025-01-07 15:12:15 | 2025-01-02 13:15:15 |  5.0812499998137355 |   121.95   |    7317.0    |\n",
       "+---------+---------------------+---------------------+---------------------+------------+--------------+"
      ]
     },
     "execution_count": 47,
     "metadata": {},
     "output_type": "execute_result"
    }
   ],
   "source": [
    "\n",
    "%%sql\n",
    "WITH previous AS (\n",
    "    SELECT \n",
    "        user_id,\n",
    "        login_time,\n",
    "        LAG(login_time) OVER (PARTITION BY user_id ORDER BY login_time) AS previous_time\n",
    "    FROM buy_item\n",
    "),\n",
    "diff AS (\n",
    "    SELECT \n",
    "        user_id,\n",
    "        login_time,\n",
    "        previous_time,\n",
    "        JULIANDAY(login_time) - JULIANDAY(previous_time) AS diff_days\n",
    "    FROM previous\n",
    ")\n",
    "SELECT \n",
    "    user_id,\n",
    "    login_time,\n",
    "    previous_time,\n",
    "    diff_days,\n",
    "    ROUND(diff_days * 24, 2) AS diff_hours,\n",
    "    ROUND(diff_days * 24 * 60, 2) AS diff_minutes\n",
    "FROM diff where diff_days not null\n",
    "ORDER BY user_id, login_time;\n"
   ]
  },
  {
   "cell_type": "code",
   "execution_count": null,
   "id": "cf2459db-aa3b-485d-81a9-2319c0720dec",
   "metadata": {},
   "outputs": [],
   "source": []
  }
 ],
 "metadata": {
  "kernelspec": {
   "display_name": "Python [conda env:base] *",
   "language": "python",
   "name": "conda-base-py"
  },
  "language_info": {
   "codemirror_mode": {
    "name": "ipython",
    "version": 3
   },
   "file_extension": ".py",
   "mimetype": "text/x-python",
   "name": "python",
   "nbconvert_exporter": "python",
   "pygments_lexer": "ipython3",
   "version": "3.12.7"
  }
 },
 "nbformat": 4,
 "nbformat_minor": 5
}
